{
 "cells": [
  {
   "cell_type": "markdown",
   "id": "8f54142f-d03e-414d-96f4-138afcd713ef",
   "metadata": {},
   "source": [
    "**Grover Search Party**"
   ]
  },
  {
   "cell_type": "code",
   "execution_count": 5,
   "id": "1126b013-67cb-4975-8fd6-4c6c721aaaef",
   "metadata": {},
   "outputs": [],
   "source": [
    "import os\n",
    "os.environ[\"OPENAI_API_KEY\"] = \"\""
   ]
  },
  {
   "cell_type": "code",
   "execution_count": null,
   "id": "31f17570-0785-43e0-b988-b98e726adf4c",
   "metadata": {},
   "outputs": [],
   "source": [
    "!pip install langchain\n",
    "!pip install langchain[llms]\n",
    "!pip install openai"
   ]
  },
  {
   "cell_type": "code",
   "execution_count": 6,
   "id": "ff1ee131-6d3a-4c10-b846-acf0b313a181",
   "metadata": {},
   "outputs": [],
   "source": [
    "from langchain.llms import OpenAI\n",
    "from langchain.prompts import PromptTemplate\n",
    "from langchain.chains import LLMChain"
   ]
  },
  {
   "cell_type": "code",
   "execution_count": 7,
   "id": "fc9d386b-5355-4603-94fb-b0455aca5967",
   "metadata": {},
   "outputs": [],
   "source": [
    "llm = OpenAI(temperature=0.0)\n",
    "template = \"\"\"Create a boolean expression that expresses the following situation:\n",
    "\n",
    "Situation: Alice and Bob are in a relationship, as are Carol and David. However, Alice and David had a bad breakup a while ago and haven't been civil with each other since.\n",
    "Expression: ((Alice & Bob) | (Carol & David)) & ~(Alice and David)\n",
    "\n",
    "Situation: {situation}\n",
    "Expression:\"\"\"\n",
    "\n",
    "prompt_template = PromptTemplate(\n",
    "    input_variables=[\"situation\"],\n",
    "    template=template,\n",
    ")\n",
    "\n",
    "chain = LLMChain(llm=llm, prompt=prompt_template)"
   ]
  },
  {
   "cell_type": "code",
   "execution_count": 8,
   "id": "dcbb12c5-276e-41ef-bb72-03a47b1a0a42",
   "metadata": {},
   "outputs": [
    {
     "name": "stderr",
     "output_type": "stream",
     "text": [
      "<frozen importlib._bootstrap>:219: RuntimeWarning: scipy._lib.messagestream.MessageStream size changed, may indicate binary incompatibility. Expected 56 from C header, got 64 from PyObject\n"
     ]
    }
   ],
   "source": [
    "from qiskit.algorithms import AmplificationProblem, Grover\n",
    "from qiskit.circuit.library import PhaseOracle\n",
    "from qiskit import Aer\n",
    "from qiskit.visualization import plot_histogram"
   ]
  },
  {
   "cell_type": "code",
   "execution_count": 9,
   "id": "4f8c503f-a24d-40a7-a211-4335f9434731",
   "metadata": {},
   "outputs": [
    {
     "name": "stdout",
     "output_type": "stream",
     "text": [
      "((Abe & Olivia) | (Amira & Jin)) & ~(Abe & Amira)\n"
     ]
    }
   ],
   "source": [
    "situation = \"\"\"There are four people, Abe, Amira, Jin, Olivia. Abe and Olivia are good friends from Qiskit Camp. \n",
    "Abe and Amira just had a big fight and don't want to hang\"\"\"\n",
    "\n",
    "bool_expr = chain.run(situation).strip()\n",
    "print(bool_expr)\n",
    "oracle = PhaseOracle(bool_expr)\n",
    "\n",
    "problem = AmplificationProblem(oracle)"
   ]
  },
  {
   "cell_type": "code",
   "execution_count": 10,
   "id": "076814e8-af95-4c54-a15d-07aa4643e779",
   "metadata": {},
   "outputs": [
    {
     "data": {
      "image/png": "[encoded data removed]",
      "text/plain": [
       "<Figure size 504x360 with 1 Axes>"
      ]
     },
     "execution_count": 10,
     "metadata": {},
     "output_type": "execute_result"
    }
   ],
   "source": [
    "backend = Aer.get_backend(\"aer_simulator\")\n",
    "\n",
    "grover = Grover(quantum_instance=backend)\n",
    "result = grover.amplify(problem)\n",
    "counts = result.circuit_results\n",
    "plot_histogram(counts)"
   ]
  },
  {
   "cell_type": "code",
   "execution_count": null,
   "id": "d0604fa9-e7d0-46f8-96ea-70d1f8831c07",
   "metadata": {},
   "outputs": [],
   "source": []
  },
  {
   "cell_type": "code",
   "execution_count": null,
   "id": "a979bb65-6234-49d5-a070-afc40abeaaee",
   "metadata": {},
   "outputs": [],
   "source": []
  }
 ],
 "metadata": {
  "kernelspec": {
   "display_name": "Python 3 (ipykernel)",
   "language": "python",
   "name": "python3"
  },
  "language_info": {
   "codemirror_mode": {
    "name": "ipython",
    "version": 3
   },
   "file_extension": ".py",
   "mimetype": "text/x-python",
   "name": "python",
   "nbconvert_exporter": "python",
   "pygments_lexer": "ipython3",
   "version": "3.8.13"
  },
  "widgets": {
   "application/vnd.jupyter.widget-state+json": {
    "state": {},
    "version_major": 2,
    "version_minor": 0
   }
  }
 },
 "nbformat": 4,
 "nbformat_minor": 5
}
